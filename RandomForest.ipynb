{
 "cells": [
  {
   "cell_type": "code",
   "execution_count": 485,
   "id": "efe68261-0c1d-40cb-a308-f0fac4551dd9",
   "metadata": {},
   "outputs": [],
   "source": [
    "# taking the data of penguin and classifying into its gender\n",
    "\n",
    "import pandas as pd\n",
    "import numpy as np\n"
   ]
  },
  {
   "cell_type": "code",
   "execution_count": 487,
   "id": "0d699acb-2d51-4ad2-9322-f010c65335c8",
   "metadata": {},
   "outputs": [],
   "source": [
    "df = pd.read_csv(r\"penguins.csv\")"
   ]
  },
  {
   "cell_type": "code",
   "execution_count": 489,
   "id": "4f9f9218-2799-42ac-a10e-9660f5d089fe",
   "metadata": {},
   "outputs": [
    {
     "data": {
      "text/html": [
       "<div>\n",
       "<style scoped>\n",
       "    .dataframe tbody tr th:only-of-type {\n",
       "        vertical-align: middle;\n",
       "    }\n",
       "\n",
       "    .dataframe tbody tr th {\n",
       "        vertical-align: top;\n",
       "    }\n",
       "\n",
       "    .dataframe thead th {\n",
       "        text-align: right;\n",
       "    }\n",
       "</style>\n",
       "<table border=\"1\" class=\"dataframe\">\n",
       "  <thead>\n",
       "    <tr style=\"text-align: right;\">\n",
       "      <th></th>\n",
       "      <th>culmen_length_mm</th>\n",
       "      <th>culmen_depth_mm</th>\n",
       "      <th>flipper_length_mm</th>\n",
       "      <th>body_mass_g</th>\n",
       "      <th>sex</th>\n",
       "    </tr>\n",
       "  </thead>\n",
       "  <tbody>\n",
       "    <tr>\n",
       "      <th>0</th>\n",
       "      <td>39.1</td>\n",
       "      <td>18.7</td>\n",
       "      <td>181.0</td>\n",
       "      <td>3750.0</td>\n",
       "      <td>MALE</td>\n",
       "    </tr>\n",
       "    <tr>\n",
       "      <th>1</th>\n",
       "      <td>39.5</td>\n",
       "      <td>17.4</td>\n",
       "      <td>186.0</td>\n",
       "      <td>3800.0</td>\n",
       "      <td>FEMALE</td>\n",
       "    </tr>\n",
       "    <tr>\n",
       "      <th>2</th>\n",
       "      <td>40.3</td>\n",
       "      <td>18.0</td>\n",
       "      <td>195.0</td>\n",
       "      <td>3250.0</td>\n",
       "      <td>FEMALE</td>\n",
       "    </tr>\n",
       "    <tr>\n",
       "      <th>3</th>\n",
       "      <td>NaN</td>\n",
       "      <td>NaN</td>\n",
       "      <td>NaN</td>\n",
       "      <td>NaN</td>\n",
       "      <td>NaN</td>\n",
       "    </tr>\n",
       "    <tr>\n",
       "      <th>4</th>\n",
       "      <td>36.7</td>\n",
       "      <td>19.3</td>\n",
       "      <td>193.0</td>\n",
       "      <td>3450.0</td>\n",
       "      <td>FEMALE</td>\n",
       "    </tr>\n",
       "  </tbody>\n",
       "</table>\n",
       "</div>"
      ],
      "text/plain": [
       "   culmen_length_mm  culmen_depth_mm  flipper_length_mm  body_mass_g     sex\n",
       "0              39.1             18.7              181.0       3750.0    MALE\n",
       "1              39.5             17.4              186.0       3800.0  FEMALE\n",
       "2              40.3             18.0              195.0       3250.0  FEMALE\n",
       "3               NaN              NaN                NaN          NaN     NaN\n",
       "4              36.7             19.3              193.0       3450.0  FEMALE"
      ]
     },
     "execution_count": 489,
     "metadata": {},
     "output_type": "execute_result"
    }
   ],
   "source": [
    "df.head()"
   ]
  },
  {
   "cell_type": "code",
   "execution_count": 491,
   "id": "7cb88171-a4f5-4a27-a8cb-feacf981e4ed",
   "metadata": {},
   "outputs": [
    {
     "data": {
      "text/plain": [
       "(344, 5)"
      ]
     },
     "execution_count": 491,
     "metadata": {},
     "output_type": "execute_result"
    }
   ],
   "source": [
    "# checking the number of rows and columns of the dataset\n",
    "df.shape"
   ]
  },
  {
   "cell_type": "code",
   "execution_count": 493,
   "id": "9a715659-893a-47a7-8e45-8c91a674112d",
   "metadata": {},
   "outputs": [
    {
     "data": {
      "text/plain": [
       "sex\n",
       "MALE      169\n",
       "FEMALE    165\n",
       ".           1\n",
       "Name: count, dtype: int64"
      ]
     },
     "execution_count": 493,
     "metadata": {},
     "output_type": "execute_result"
    }
   ],
   "source": [
    "# checking the unique category of sex column (it seems normal male and female but could be checked)\n",
    "df.sex.value_counts()"
   ]
  },
  {
   "cell_type": "code",
   "execution_count": 495,
   "id": "d2a274de-80d5-4817-9cbc-06f9d58904cc",
   "metadata": {},
   "outputs": [
    {
     "data": {
      "text/plain": [
       "culmen_length_mm     2\n",
       "culmen_depth_mm      2\n",
       "flipper_length_mm    2\n",
       "body_mass_g          2\n",
       "sex                  9\n",
       "dtype: int64"
      ]
     },
     "execution_count": 495,
     "metadata": {},
     "output_type": "execute_result"
    }
   ],
   "source": [
    "df.isna().sum()"
   ]
  },
  {
   "cell_type": "code",
   "execution_count": 497,
   "id": "ccc90ad4-8d24-4194-8cd2-d5e489f92e88",
   "metadata": {},
   "outputs": [],
   "source": [
    "\n",
    "# lets drop the row that has  NaN in it \n",
    "df.dropna(inplace = True) # this  drops the rows of all column where it is NaN and updates df"
   ]
  },
  {
   "cell_type": "code",
   "execution_count": 499,
   "id": "131c6a1e-848c-4d56-8d34-5fb672ab6b79",
   "metadata": {},
   "outputs": [
    {
     "data": {
      "text/plain": [
       "culmen_length_mm     0\n",
       "culmen_depth_mm      0\n",
       "flipper_length_mm    0\n",
       "body_mass_g          0\n",
       "sex                  0\n",
       "dtype: int64"
      ]
     },
     "execution_count": 499,
     "metadata": {},
     "output_type": "execute_result"
    }
   ],
   "source": [
    "df.isna().sum() # none of rows has NaN values "
   ]
  },
  {
   "cell_type": "code",
   "execution_count": 501,
   "id": "a04ff7ad-5575-4034-8ccb-1820839eaf81",
   "metadata": {},
   "outputs": [
    {
     "data": {
      "text/plain": [
       "0        MALE\n",
       "1      FEMALE\n",
       "2      FEMALE\n",
       "4      FEMALE\n",
       "5        MALE\n",
       "        ...  \n",
       "338    FEMALE\n",
       "340    FEMALE\n",
       "341      MALE\n",
       "342    FEMALE\n",
       "343      MALE\n",
       "Name: sex, Length: 335, dtype: object"
      ]
     },
     "execution_count": 501,
     "metadata": {},
     "output_type": "execute_result"
    }
   ],
   "source": [
    "df[\"sex\"]"
   ]
  },
  {
   "cell_type": "code",
   "execution_count": 503,
   "id": "f1b35b83-10ff-4a30-afee-5ea56c61f1cd",
   "metadata": {},
   "outputs": [],
   "source": [
    "# # since we are using the Decision Trees NORMALIZATION and ENCODING can be skipped but we did it \n",
    "from sklearn.preprocessing import LabelEncoder\n",
    "label_encoder = LabelEncoder()\n",
    "df[\"sex\"] = label_encoder.fit_transform(df[\"sex\"])\n",
    "\n",
    "from sklearn.preprocessing import MinMaxScaler\n",
    "df[[\"culmen_length_mm\" , \"culmen_depth_mm\", \"flipper_length_mm\" , \"body_mass_g\"]] = MinMaxScaler().fit_transform(df[[\"culmen_length_mm\" , \"culmen_depth_mm\", \"flipper_length_mm\" , \"body_mass_g\"]])"
   ]
  },
  {
   "cell_type": "code",
   "execution_count": 505,
   "id": "ca0711f6-13d9-4f3c-9a60-5b8a6ba0305c",
   "metadata": {},
   "outputs": [
    {
     "name": "stdout",
     "output_type": "stream",
     "text": [
      "['.' 'FEMALE' 'MALE']\n"
     ]
    },
    {
     "data": {
      "text/plain": [
       "array(['MALE', 'FEMALE', '.'], dtype=object)"
      ]
     },
     "execution_count": 505,
     "metadata": {},
     "output_type": "execute_result"
    }
   ],
   "source": [
    "print(label_encoder.classes_) # to check how many classes are there \n",
    "label_encoder.inverse_transform([2 , 1 , 0])#  to know which value for which class"
   ]
  },
  {
   "cell_type": "code",
   "execution_count": 507,
   "id": "c91ee81d-56ff-48eb-8cee-5ba4fc8b3516",
   "metadata": {},
   "outputs": [],
   "source": [
    "# making the x (input) data selcting the features\n",
    "features = [\"culmen_length_mm\" , \"culmen_depth_mm\", \"flipper_length_mm\" , \"body_mass_g\"]\n",
    "x = df[features].values\n"
   ]
  },
  {
   "cell_type": "code",
   "execution_count": 509,
   "id": "bac8e5d3-3db5-48fd-ae74-d3d651a567f7",
   "metadata": {},
   "outputs": [
    {
     "data": {
      "text/plain": [
       "array([[0.25454545, 0.66666667, 0.06098987, 0.29166667],\n",
       "       [0.26909091, 0.51190476, 0.06196415, 0.30555556],\n",
       "       [0.29818182, 0.58333333, 0.06371785, 0.15277778],\n",
       "       [0.16727273, 0.73809524, 0.06332814, 0.20833333],\n",
       "       [0.26181818, 0.89285714, 0.06274357, 0.26388889]])"
      ]
     },
     "execution_count": 509,
     "metadata": {},
     "output_type": "execute_result"
    }
   ],
   "source": [
    "x[0:5]"
   ]
  },
  {
   "cell_type": "code",
   "execution_count": 511,
   "id": "dea0fd8f-ad49-4d21-bf48-3884cbfab87c",
   "metadata": {},
   "outputs": [],
   "source": [
    "# making the y(target) column to array\n",
    "y = df[\"sex\"].values"
   ]
  },
  {
   "cell_type": "code",
   "execution_count": 513,
   "id": "e275dfe5-2a1b-41e6-b80a-ad30667716f6",
   "metadata": {},
   "outputs": [
    {
     "data": {
      "text/plain": [
       "array([2, 1, 1, 1, 2])"
      ]
     },
     "execution_count": 513,
     "metadata": {},
     "output_type": "execute_result"
    }
   ],
   "source": [
    "y[0:5]"
   ]
  },
  {
   "cell_type": "code",
   "execution_count": 515,
   "id": "c1a6c57c-fc4a-440a-861c-33f0be8da624",
   "metadata": {},
   "outputs": [],
   "source": [
    "# splitting to train test dataset\n",
    "from sklearn.model_selection import train_test_split\n",
    "x_train , x_test , y_train , y_test = train_test_split( x , y , test_size = 0.30)"
   ]
  },
  {
   "cell_type": "code",
   "execution_count": 517,
   "id": "f27f4a01-9a60-4eb4-8472-16b44c5b0a79",
   "metadata": {},
   "outputs": [],
   "source": [
    "# training the model\n",
    "\n",
    "# making RandomForestClassifier model (if it was regression prob we would call RandomForestRegressor)\n",
    "from sklearn.ensemble import RandomForestClassifier\n",
    "\n",
    "model = RandomForestClassifier().fit(x_train , y_train) # training model\n",
    "#testing model\n",
    "y_pred= model.predict(x_test)\n",
    "\n"
   ]
  },
  {
   "cell_type": "code",
   "execution_count": 519,
   "id": "576fe6bf-8e5e-4785-9dd1-decbd7085e40",
   "metadata": {},
   "outputs": [
    {
     "name": "stdout",
     "output_type": "stream",
     "text": [
      "The Accuracy of Random Forest model is 89.10891089108911 %\n"
     ]
    }
   ],
   "source": [
    "# Evaluation metrics\n",
    "\n",
    "from sklearn.metrics import accuracy_score\n",
    "acc_score = accuracy_score(y_test , y_pred)*100\n",
    "print(f\"The Accuracy of Random Forest model is {acc_score} %\")\n"
   ]
  },
  {
   "cell_type": "code",
   "execution_count": 521,
   "id": "aa7c05a9-a41c-4595-8a12-7bf23cd0ee2e",
   "metadata": {},
   "outputs": [
    {
     "data": {
      "text/plain": [
       "['RandomForestModel.pkl']"
      ]
     },
     "execution_count": 521,
     "metadata": {},
     "output_type": "execute_result"
    }
   ],
   "source": [
    "# Saving our model in form of the pickle file (.pkl)\n",
    "import joblib \n",
    "joblib.dump(model , \"RandomForestModel.pkl\")"
   ]
  },
  {
   "cell_type": "code",
   "execution_count": 443,
   "id": "98ab38fc-7ed7-45a3-b544-5dda19230b84",
   "metadata": {},
   "outputs": [],
   "source": [
    "# lets move to the vs code and make the app of it"
   ]
  },
  {
   "cell_type": "code",
   "execution_count": null,
   "id": "4791a45d-6f38-48ed-9b78-850826b7d531",
   "metadata": {},
   "outputs": [],
   "source": []
  },
  {
   "cell_type": "code",
   "execution_count": null,
   "id": "171fed05-d5ea-4954-a483-5d6903455fa7",
   "metadata": {},
   "outputs": [],
   "source": []
  },
  {
   "cell_type": "code",
   "execution_count": null,
   "id": "59765d53-8eab-4715-b161-d0a2bf1fc519",
   "metadata": {},
   "outputs": [],
   "source": []
  }
 ],
 "metadata": {
  "kernelspec": {
   "display_name": "Python 3 (ipykernel)",
   "language": "python",
   "name": "python3"
  },
  "language_info": {
   "codemirror_mode": {
    "name": "ipython",
    "version": 3
   },
   "file_extension": ".py",
   "mimetype": "text/x-python",
   "name": "python",
   "nbconvert_exporter": "python",
   "pygments_lexer": "ipython3",
   "version": "3.12.4"
  }
 },
 "nbformat": 4,
 "nbformat_minor": 5
}
